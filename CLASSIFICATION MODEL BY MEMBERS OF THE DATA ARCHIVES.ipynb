{
 "cells": [
  {
   "cell_type": "markdown",
   "id": "e7677201",
   "metadata": {},
   "source": [
    "# E-SIGNED ANALYSIS BY MEMBERS OF THE DATA ARCHIVES"
   ]
  },
  {
   "cell_type": "markdown",
   "id": "81d3dfca",
   "metadata": {},
   "source": [
    "## TABLE OF CONTENTS \n",
    "\n",
    "[INTRODUCTION](#INTRODUCTION)\n",
    "\n",
    "[IMPORTING LIBRARIES](#IMPORTING-LIBRARIES)\n",
    "\n",
    "[LOADING THE DATASETS](#LOADING-THE-DATASETS)\n",
    "\n",
    "[ASSESSING THE DATASETS](#ASSESSING-THE-DATASETS)\n",
    "\n",
    "[EXPLORATORY DATA ANALYSIS](#EXPLORATORY-DATA-ANALYSIS)\n",
    "\n",
    "[PREPARATION FOR THE MODELS](#PREPARATION-FOR-THE-MODELS)\n",
    "\n",
    "[MODELING](#THE-MODELS)\n",
    "\n",
    "[STORING THE OUTPUT](#THE-TEST-DATA)"
   ]
  },
  {
   "cell_type": "markdown",
   "id": "4b2a433e",
   "metadata": {},
   "source": [
    "## INTRODUCTION"
   ]
  },
  {
   "cell_type": "markdown",
   "id": "b862609b",
   "metadata": {},
   "source": [
    "You just got hired as a Data Scientist at Borrowme, a fintech playing in the lending space. The CEO tasks you with helping to revamp the lending process due to complaints from customers on the time the process takes.\n",
    "\n",
    "The IT team has provided historical information containing the information of applicants and the status of their loan application process. You are expected to automate the process by building a machine learning model to predict the outcome of the lending process if the credit facility process was completed via e-process, that is E-Signed or not.\n",
    "\n",
    "Here is the link to the description of the variables in the train and test datasets https://www.kaggle.com/competitions/datafestafrica-ml-hackathon/data"
   ]
  },
  {
   "cell_type": "markdown",
   "id": "88d30102",
   "metadata": {},
   "source": [
    "## IMPORTING LIBRARIES"
   ]
  },
  {
   "cell_type": "code",
   "execution_count": 2,
   "id": "41e6aa4a",
   "metadata": {},
   "outputs": [],
   "source": [
    "import numpy as np\n",
    "import pandas as pd\n",
    "import sklearn\n",
    "import scipy\n",
    "import matplotlib.pyplot as plt\n",
    "import seaborn as sns\n",
    "import tensorflow as tf\n",
    "import pickle\n",
    "from scipy import stats\n",
    "from sklearn.ensemble import IsolationForest, RandomForestClassifier\n",
    "from sklearn.neighbors import LocalOutlierFactor\n",
    "from sklearn.svm import OneClassSVM\n",
    "from sklearn.model_selection import train_test_split\n",
    "from sklearn.metrics import accuracy_score, auc, classification_report  \n",
    "from sklearn.metrics import confusion_matrix, f1_score,matthews_corrcoef\n",
    "from sklearn.metrics import precision_recall_curve, precision_recall_fscore_support\n",
    "from sklearn.metrics import precision_score,recall_score,roc_curve\n",
    "from sklearn.preprocessing import StandardScaler\n",
    "from pylab import rcParams\n",
    "from keras.models import Model, load_model\n",
    "from keras.layers import Input, Dense\n",
    "from keras.callbacks import ModelCheckpoint, TensorBoard\n",
    "from keras import regularizers"
   ]
  },
  {
   "cell_type": "markdown",
   "id": "32065701",
   "metadata": {},
   "source": [
    "## LOADING THE DATASETS"
   ]
  },
  {
   "cell_type": "code",
   "execution_count": 3,
   "id": "908b7e3c",
   "metadata": {},
   "outputs": [],
   "source": [
    "train = pd.read_csv('train.csv')\n",
    "test = pd.read_csv('test.csv')"
   ]
  },
  {
   "cell_type": "markdown",
   "id": "21b92d57",
   "metadata": {},
   "source": [
    "## ASSESSING THE DATASETS"
   ]
  },
  {
   "cell_type": "code",
   "execution_count": 4,
   "id": "bdf174c9",
   "metadata": {},
   "outputs": [
    {
     "data": {
      "text/html": [
       "<div>\n",
       "<style scoped>\n",
       "    .dataframe tbody tr th:only-of-type {\n",
       "        vertical-align: middle;\n",
       "    }\n",
       "\n",
       "    .dataframe tbody tr th {\n",
       "        vertical-align: top;\n",
       "    }\n",
       "\n",
       "    .dataframe thead th {\n",
       "        text-align: right;\n",
       "    }\n",
       "</style>\n",
       "<table border=\"1\" class=\"dataframe\">\n",
       "  <thead>\n",
       "    <tr style=\"text-align: right;\">\n",
       "      <th></th>\n",
       "      <th>Entry_id</th>\n",
       "      <th>age</th>\n",
       "      <th>pay_schedule</th>\n",
       "      <th>home_owner</th>\n",
       "      <th>income</th>\n",
       "      <th>months_employed</th>\n",
       "      <th>years_employed</th>\n",
       "      <th>current_address_year</th>\n",
       "      <th>personal_account_m</th>\n",
       "      <th>personal_account_y</th>\n",
       "      <th>...</th>\n",
       "      <th>amount_requested</th>\n",
       "      <th>risk_score</th>\n",
       "      <th>risk_score_2</th>\n",
       "      <th>risk_score_3</th>\n",
       "      <th>risk_score_4</th>\n",
       "      <th>risk_score_5</th>\n",
       "      <th>ext_quality_score</th>\n",
       "      <th>ext_quality_score_2</th>\n",
       "      <th>inquiries_last_month</th>\n",
       "      <th>e_signed</th>\n",
       "    </tr>\n",
       "  </thead>\n",
       "  <tbody>\n",
       "    <tr>\n",
       "      <th>0</th>\n",
       "      <td>7629673</td>\n",
       "      <td>40</td>\n",
       "      <td>bi-weekly</td>\n",
       "      <td>1</td>\n",
       "      <td>3135</td>\n",
       "      <td>0</td>\n",
       "      <td>3</td>\n",
       "      <td>3</td>\n",
       "      <td>6</td>\n",
       "      <td>2</td>\n",
       "      <td>...</td>\n",
       "      <td>550</td>\n",
       "      <td>36200</td>\n",
       "      <td>0.737398</td>\n",
       "      <td>0.903517</td>\n",
       "      <td>0.487712</td>\n",
       "      <td>0.515977</td>\n",
       "      <td>0.580918</td>\n",
       "      <td>0.380918</td>\n",
       "      <td>10</td>\n",
       "      <td>1</td>\n",
       "    </tr>\n",
       "    <tr>\n",
       "      <th>1</th>\n",
       "      <td>5335819</td>\n",
       "      <td>33</td>\n",
       "      <td>semi-monthly</td>\n",
       "      <td>0</td>\n",
       "      <td>3590</td>\n",
       "      <td>0</td>\n",
       "      <td>5</td>\n",
       "      <td>2</td>\n",
       "      <td>2</td>\n",
       "      <td>8</td>\n",
       "      <td>...</td>\n",
       "      <td>1100</td>\n",
       "      <td>53850</td>\n",
       "      <td>0.617361</td>\n",
       "      <td>0.857560</td>\n",
       "      <td>0.613487</td>\n",
       "      <td>0.665523</td>\n",
       "      <td>0.744634</td>\n",
       "      <td>0.744634</td>\n",
       "      <td>12</td>\n",
       "      <td>0</td>\n",
       "    </tr>\n",
       "    <tr>\n",
       "      <th>2</th>\n",
       "      <td>8492423</td>\n",
       "      <td>21</td>\n",
       "      <td>weekly</td>\n",
       "      <td>0</td>\n",
       "      <td>2303</td>\n",
       "      <td>0</td>\n",
       "      <td>5</td>\n",
       "      <td>8</td>\n",
       "      <td>2</td>\n",
       "      <td>7</td>\n",
       "      <td>...</td>\n",
       "      <td>600</td>\n",
       "      <td>74850</td>\n",
       "      <td>0.677109</td>\n",
       "      <td>0.758765</td>\n",
       "      <td>0.495609</td>\n",
       "      <td>0.664762</td>\n",
       "      <td>0.592556</td>\n",
       "      <td>0.492556</td>\n",
       "      <td>6</td>\n",
       "      <td>1</td>\n",
       "    </tr>\n",
       "    <tr>\n",
       "      <th>3</th>\n",
       "      <td>7948313</td>\n",
       "      <td>26</td>\n",
       "      <td>bi-weekly</td>\n",
       "      <td>0</td>\n",
       "      <td>2795</td>\n",
       "      <td>0</td>\n",
       "      <td>4</td>\n",
       "      <td>4</td>\n",
       "      <td>1</td>\n",
       "      <td>6</td>\n",
       "      <td>...</td>\n",
       "      <td>800</td>\n",
       "      <td>50800</td>\n",
       "      <td>0.738055</td>\n",
       "      <td>0.873204</td>\n",
       "      <td>0.666437</td>\n",
       "      <td>0.700392</td>\n",
       "      <td>0.584130</td>\n",
       "      <td>0.684130</td>\n",
       "      <td>14</td>\n",
       "      <td>1</td>\n",
       "    </tr>\n",
       "    <tr>\n",
       "      <th>4</th>\n",
       "      <td>4297036</td>\n",
       "      <td>43</td>\n",
       "      <td>bi-weekly</td>\n",
       "      <td>0</td>\n",
       "      <td>5000</td>\n",
       "      <td>0</td>\n",
       "      <td>2</td>\n",
       "      <td>1</td>\n",
       "      <td>1</td>\n",
       "      <td>2</td>\n",
       "      <td>...</td>\n",
       "      <td>1100</td>\n",
       "      <td>69100</td>\n",
       "      <td>0.798303</td>\n",
       "      <td>0.841747</td>\n",
       "      <td>0.401971</td>\n",
       "      <td>0.568787</td>\n",
       "      <td>0.525905</td>\n",
       "      <td>0.725905</td>\n",
       "      <td>5</td>\n",
       "      <td>1</td>\n",
       "    </tr>\n",
       "  </tbody>\n",
       "</table>\n",
       "<p>5 rows × 21 columns</p>\n",
       "</div>"
      ],
      "text/plain": [
       "   Entry_id  age  pay_schedule  home_owner  income  months_employed  \\\n",
       "0   7629673   40     bi-weekly           1    3135                0   \n",
       "1   5335819   33  semi-monthly           0    3590                0   \n",
       "2   8492423   21        weekly           0    2303                0   \n",
       "3   7948313   26     bi-weekly           0    2795                0   \n",
       "4   4297036   43     bi-weekly           0    5000                0   \n",
       "\n",
       "   years_employed  current_address_year  personal_account_m  \\\n",
       "0               3                     3                   6   \n",
       "1               5                     2                   2   \n",
       "2               5                     8                   2   \n",
       "3               4                     4                   1   \n",
       "4               2                     1                   1   \n",
       "\n",
       "   personal_account_y  ...  amount_requested  risk_score  risk_score_2  \\\n",
       "0                   2  ...               550       36200      0.737398   \n",
       "1                   8  ...              1100       53850      0.617361   \n",
       "2                   7  ...               600       74850      0.677109   \n",
       "3                   6  ...               800       50800      0.738055   \n",
       "4                   2  ...              1100       69100      0.798303   \n",
       "\n",
       "   risk_score_3  risk_score_4  risk_score_5  ext_quality_score  \\\n",
       "0      0.903517      0.487712      0.515977           0.580918   \n",
       "1      0.857560      0.613487      0.665523           0.744634   \n",
       "2      0.758765      0.495609      0.664762           0.592556   \n",
       "3      0.873204      0.666437      0.700392           0.584130   \n",
       "4      0.841747      0.401971      0.568787           0.525905   \n",
       "\n",
       "   ext_quality_score_2  inquiries_last_month  e_signed  \n",
       "0             0.380918                    10         1  \n",
       "1             0.744634                    12         0  \n",
       "2             0.492556                     6         1  \n",
       "3             0.684130                    14         1  \n",
       "4             0.725905                     5         1  \n",
       "\n",
       "[5 rows x 21 columns]"
      ]
     },
     "execution_count": 4,
     "metadata": {},
     "output_type": "execute_result"
    }
   ],
   "source": [
    "train.head()"
   ]
  },
  {
   "cell_type": "code",
   "execution_count": 5,
   "id": "cfa9086c",
   "metadata": {},
   "outputs": [
    {
     "data": {
      "text/html": [
       "<div>\n",
       "<style scoped>\n",
       "    .dataframe tbody tr th:only-of-type {\n",
       "        vertical-align: middle;\n",
       "    }\n",
       "\n",
       "    .dataframe tbody tr th {\n",
       "        vertical-align: top;\n",
       "    }\n",
       "\n",
       "    .dataframe thead th {\n",
       "        text-align: right;\n",
       "    }\n",
       "</style>\n",
       "<table border=\"1\" class=\"dataframe\">\n",
       "  <thead>\n",
       "    <tr style=\"text-align: right;\">\n",
       "      <th></th>\n",
       "      <th>Entry_id</th>\n",
       "      <th>age</th>\n",
       "      <th>pay_schedule</th>\n",
       "      <th>home_owner</th>\n",
       "      <th>income</th>\n",
       "      <th>months_employed</th>\n",
       "      <th>years_employed</th>\n",
       "      <th>current_address_year</th>\n",
       "      <th>personal_account_m</th>\n",
       "      <th>personal_account_y</th>\n",
       "      <th>has_debt</th>\n",
       "      <th>amount_requested</th>\n",
       "      <th>risk_score</th>\n",
       "      <th>risk_score_2</th>\n",
       "      <th>risk_score_3</th>\n",
       "      <th>risk_score_4</th>\n",
       "      <th>risk_score_5</th>\n",
       "      <th>ext_quality_score</th>\n",
       "      <th>ext_quality_score_2</th>\n",
       "      <th>inquiries_last_month</th>\n",
       "    </tr>\n",
       "  </thead>\n",
       "  <tbody>\n",
       "    <tr>\n",
       "      <th>0</th>\n",
       "      <td>3560428</td>\n",
       "      <td>61</td>\n",
       "      <td>weekly</td>\n",
       "      <td>0</td>\n",
       "      <td>3180</td>\n",
       "      <td>0</td>\n",
       "      <td>6</td>\n",
       "      <td>3</td>\n",
       "      <td>2</td>\n",
       "      <td>7</td>\n",
       "      <td>1</td>\n",
       "      <td>600</td>\n",
       "      <td>30150</td>\n",
       "      <td>0.738510</td>\n",
       "      <td>0.881027</td>\n",
       "      <td>0.713423</td>\n",
       "      <td>0.826402</td>\n",
       "      <td>0.730720</td>\n",
       "      <td>0.630720</td>\n",
       "      <td>9</td>\n",
       "    </tr>\n",
       "    <tr>\n",
       "      <th>1</th>\n",
       "      <td>6934997</td>\n",
       "      <td>23</td>\n",
       "      <td>weekly</td>\n",
       "      <td>0</td>\n",
       "      <td>1540</td>\n",
       "      <td>6</td>\n",
       "      <td>0</td>\n",
       "      <td>0</td>\n",
       "      <td>7</td>\n",
       "      <td>1</td>\n",
       "      <td>1</td>\n",
       "      <td>450</td>\n",
       "      <td>34550</td>\n",
       "      <td>0.642993</td>\n",
       "      <td>0.766554</td>\n",
       "      <td>0.595018</td>\n",
       "      <td>0.762284</td>\n",
       "      <td>0.531712</td>\n",
       "      <td>0.531712</td>\n",
       "      <td>7</td>\n",
       "    </tr>\n",
       "    <tr>\n",
       "      <th>2</th>\n",
       "      <td>5682812</td>\n",
       "      <td>40</td>\n",
       "      <td>bi-weekly</td>\n",
       "      <td>0</td>\n",
       "      <td>5230</td>\n",
       "      <td>0</td>\n",
       "      <td>6</td>\n",
       "      <td>1</td>\n",
       "      <td>2</td>\n",
       "      <td>7</td>\n",
       "      <td>1</td>\n",
       "      <td>700</td>\n",
       "      <td>42150</td>\n",
       "      <td>0.665224</td>\n",
       "      <td>0.960832</td>\n",
       "      <td>0.767828</td>\n",
       "      <td>0.778831</td>\n",
       "      <td>0.792552</td>\n",
       "      <td>0.592552</td>\n",
       "      <td>8</td>\n",
       "    </tr>\n",
       "    <tr>\n",
       "      <th>3</th>\n",
       "      <td>6493191</td>\n",
       "      <td>32</td>\n",
       "      <td>semi-monthly</td>\n",
       "      <td>0</td>\n",
       "      <td>5260</td>\n",
       "      <td>3</td>\n",
       "      <td>0</td>\n",
       "      <td>3</td>\n",
       "      <td>1</td>\n",
       "      <td>4</td>\n",
       "      <td>1</td>\n",
       "      <td>1150</td>\n",
       "      <td>64050</td>\n",
       "      <td>0.652429</td>\n",
       "      <td>0.802433</td>\n",
       "      <td>0.593816</td>\n",
       "      <td>0.560389</td>\n",
       "      <td>0.569459</td>\n",
       "      <td>0.369459</td>\n",
       "      <td>3</td>\n",
       "    </tr>\n",
       "    <tr>\n",
       "      <th>4</th>\n",
       "      <td>8990111</td>\n",
       "      <td>61</td>\n",
       "      <td>bi-weekly</td>\n",
       "      <td>1</td>\n",
       "      <td>3270</td>\n",
       "      <td>0</td>\n",
       "      <td>4</td>\n",
       "      <td>0</td>\n",
       "      <td>4</td>\n",
       "      <td>3</td>\n",
       "      <td>1</td>\n",
       "      <td>400</td>\n",
       "      <td>61700</td>\n",
       "      <td>0.659736</td>\n",
       "      <td>0.937287</td>\n",
       "      <td>0.852323</td>\n",
       "      <td>0.785698</td>\n",
       "      <td>0.632466</td>\n",
       "      <td>0.732466</td>\n",
       "      <td>7</td>\n",
       "    </tr>\n",
       "  </tbody>\n",
       "</table>\n",
       "</div>"
      ],
      "text/plain": [
       "   Entry_id  age  pay_schedule  home_owner  income  months_employed  \\\n",
       "0   3560428   61        weekly           0    3180                0   \n",
       "1   6934997   23        weekly           0    1540                6   \n",
       "2   5682812   40     bi-weekly           0    5230                0   \n",
       "3   6493191   32  semi-monthly           0    5260                3   \n",
       "4   8990111   61     bi-weekly           1    3270                0   \n",
       "\n",
       "   years_employed  current_address_year  personal_account_m  \\\n",
       "0               6                     3                   2   \n",
       "1               0                     0                   7   \n",
       "2               6                     1                   2   \n",
       "3               0                     3                   1   \n",
       "4               4                     0                   4   \n",
       "\n",
       "   personal_account_y  has_debt  amount_requested  risk_score  risk_score_2  \\\n",
       "0                   7         1               600       30150      0.738510   \n",
       "1                   1         1               450       34550      0.642993   \n",
       "2                   7         1               700       42150      0.665224   \n",
       "3                   4         1              1150       64050      0.652429   \n",
       "4                   3         1               400       61700      0.659736   \n",
       "\n",
       "   risk_score_3  risk_score_4  risk_score_5  ext_quality_score  \\\n",
       "0      0.881027      0.713423      0.826402           0.730720   \n",
       "1      0.766554      0.595018      0.762284           0.531712   \n",
       "2      0.960832      0.767828      0.778831           0.792552   \n",
       "3      0.802433      0.593816      0.560389           0.569459   \n",
       "4      0.937287      0.852323      0.785698           0.632466   \n",
       "\n",
       "   ext_quality_score_2  inquiries_last_month  \n",
       "0             0.630720                     9  \n",
       "1             0.531712                     7  \n",
       "2             0.592552                     8  \n",
       "3             0.369459                     3  \n",
       "4             0.732466                     7  "
      ]
     },
     "execution_count": 5,
     "metadata": {},
     "output_type": "execute_result"
    }
   ],
   "source": [
    "test.head()"
   ]
  },
  {
   "cell_type": "code",
   "execution_count": 6,
   "id": "9a3cae74",
   "metadata": {
    "scrolled": true
   },
   "outputs": [
    {
     "name": "stdout",
     "output_type": "stream",
     "text": [
      "<class 'pandas.core.frame.DataFrame'>\n",
      "RangeIndex: 12516 entries, 0 to 12515\n",
      "Data columns (total 21 columns):\n",
      " #   Column                Non-Null Count  Dtype  \n",
      "---  ------                --------------  -----  \n",
      " 0   Entry_id              12516 non-null  int64  \n",
      " 1   age                   12516 non-null  int64  \n",
      " 2   pay_schedule          12516 non-null  object \n",
      " 3   home_owner            12516 non-null  int64  \n",
      " 4   income                12516 non-null  int64  \n",
      " 5   months_employed       12516 non-null  int64  \n",
      " 6   years_employed        12516 non-null  int64  \n",
      " 7   current_address_year  12516 non-null  int64  \n",
      " 8   personal_account_m    12516 non-null  int64  \n",
      " 9   personal_account_y    12516 non-null  int64  \n",
      " 10  has_debt              12516 non-null  int64  \n",
      " 11  amount_requested      12516 non-null  int64  \n",
      " 12  risk_score            12516 non-null  int64  \n",
      " 13  risk_score_2          12516 non-null  float64\n",
      " 14  risk_score_3          12516 non-null  float64\n",
      " 15  risk_score_4          12516 non-null  float64\n",
      " 16  risk_score_5          12516 non-null  float64\n",
      " 17  ext_quality_score     12516 non-null  float64\n",
      " 18  ext_quality_score_2   12516 non-null  float64\n",
      " 19  inquiries_last_month  12516 non-null  int64  \n",
      " 20  e_signed              12516 non-null  int64  \n",
      "dtypes: float64(6), int64(14), object(1)\n",
      "memory usage: 2.0+ MB\n",
      "None\n",
      "<class 'pandas.core.frame.DataFrame'>\n",
      "RangeIndex: 5392 entries, 0 to 5391\n",
      "Data columns (total 20 columns):\n",
      " #   Column                Non-Null Count  Dtype  \n",
      "---  ------                --------------  -----  \n",
      " 0   Entry_id              5392 non-null   int64  \n",
      " 1   age                   5392 non-null   int64  \n",
      " 2   pay_schedule          5392 non-null   object \n",
      " 3   home_owner            5392 non-null   int64  \n",
      " 4   income                5392 non-null   int64  \n",
      " 5   months_employed       5392 non-null   int64  \n",
      " 6   years_employed        5392 non-null   int64  \n",
      " 7   current_address_year  5392 non-null   int64  \n",
      " 8   personal_account_m    5392 non-null   int64  \n",
      " 9   personal_account_y    5392 non-null   int64  \n",
      " 10  has_debt              5392 non-null   int64  \n",
      " 11  amount_requested      5392 non-null   int64  \n",
      " 12  risk_score            5392 non-null   int64  \n",
      " 13  risk_score_2          5392 non-null   float64\n",
      " 14  risk_score_3          5392 non-null   float64\n",
      " 15  risk_score_4          5392 non-null   float64\n",
      " 16  risk_score_5          5392 non-null   float64\n",
      " 17  ext_quality_score     5392 non-null   float64\n",
      " 18  ext_quality_score_2   5392 non-null   float64\n",
      " 19  inquiries_last_month  5392 non-null   int64  \n",
      "dtypes: float64(6), int64(13), object(1)\n",
      "memory usage: 842.6+ KB\n",
      "None\n"
     ]
    }
   ],
   "source": [
    "print(train.info())\n",
    "print(test.info())"
   ]
  },
  {
   "cell_type": "markdown",
   "id": "838a8247",
   "metadata": {},
   "source": [
    "For the train dataframe, there are 21 columns and 12516 entries(rows) while the test dataframe contains 20 columns and 5391 entries(rows) \n",
    "\n",
    "The test dataframe does not contain the 'e_signed' column because, the purpose of this project is to predict that. \n",
    "\n",
    "There isn't any null-cell in the both the train dataframe and the test dataframe. "
   ]
  },
  {
   "cell_type": "code",
   "execution_count": 7,
   "id": "0cff1bc5",
   "metadata": {
    "scrolled": true
   },
   "outputs": [
    {
     "name": "stdout",
     "output_type": "stream",
     "text": [
      "           Entry_id           age    home_owner        income  \\\n",
      "count  1.251600e+04  12516.000000  12516.000000  12516.000000   \n",
      "mean   5.599485e+06     43.026766      0.425056   3654.110658   \n",
      "std    2.563354e+06     11.865891      0.494371   1508.072163   \n",
      "min    1.111398e+06     18.000000      0.000000    905.000000   \n",
      "25%    3.376885e+06     34.000000      0.000000   2575.000000   \n",
      "50%    5.608376e+06     42.000000      0.000000   3255.000000   \n",
      "75%    7.803325e+06     51.000000      1.000000   4661.250000   \n",
      "max    9.999874e+06     96.000000      1.000000   9985.000000   \n",
      "\n",
      "       months_employed  years_employed  current_address_year  \\\n",
      "count     12516.000000    12516.000000          12516.000000   \n",
      "mean          1.191355        3.532998              3.593161   \n",
      "std           2.404529        2.265293              2.749211   \n",
      "min           0.000000        0.000000              0.000000   \n",
      "25%           0.000000        2.000000              2.000000   \n",
      "50%           0.000000        3.000000              3.000000   \n",
      "75%           1.000000        5.000000              5.000000   \n",
      "max          11.000000       16.000000             12.000000   \n",
      "\n",
      "       personal_account_m  personal_account_y      has_debt  amount_requested  \\\n",
      "count        12516.000000        12516.000000  12516.000000      12516.000000   \n",
      "mean             3.402205            3.508469      0.795462        950.251518   \n",
      "std              2.206649            1.959969      0.403380        706.915146   \n",
      "min              0.000000            0.000000      0.000000        350.000000   \n",
      "25%              2.000000            2.000000      1.000000        600.000000   \n",
      "50%              2.000000            3.000000      1.000000        700.000000   \n",
      "75%              5.000000            4.000000      1.000000       1100.000000   \n",
      "max             11.000000           14.000000      1.000000      10200.000000   \n",
      "\n",
      "         risk_score  risk_score_2  risk_score_3  risk_score_4  risk_score_5  \\\n",
      "count  12516.000000  12516.000000  12516.000000  12516.000000  12516.000000   \n",
      "mean   61133.401246      0.690665      0.877954      0.582848      0.718456   \n",
      "std    15396.809340      0.090294      0.054197      0.125260      0.121103   \n",
      "min     2100.000000      0.023258      0.451371      0.016724      0.153367   \n",
      "25%    49450.000000      0.641221      0.850893      0.499887      0.635005   \n",
      "50%    61200.000000      0.699621      0.880993      0.588202      0.725717   \n",
      "75%    72750.000000      0.752053      0.911485      0.672431      0.806576   \n",
      "max    99750.000000      0.999997      0.999012      0.978932      0.993363   \n",
      "\n",
      "       ext_quality_score  ext_quality_score_2  inquiries_last_month  \\\n",
      "count       12516.000000         12516.000000          12516.000000   \n",
      "mean            0.621944             0.621912              6.494088   \n",
      "std             0.139876             0.139623              3.731870   \n",
      "min             0.010184             0.006622              1.000000   \n",
      "25%             0.519794             0.519662              4.000000   \n",
      "50%             0.624081             0.623781              6.000000   \n",
      "75%             0.729609             0.728389              8.000000   \n",
      "max             0.970249             0.966953             30.000000   \n",
      "\n",
      "           e_signed  \n",
      "count  12516.000000  \n",
      "mean       0.540588  \n",
      "std        0.498370  \n",
      "min        0.000000  \n",
      "25%        0.000000  \n",
      "50%        1.000000  \n",
      "75%        1.000000  \n",
      "max        1.000000  \n",
      "           Entry_id          age   home_owner       income  months_employed  \\\n",
      "count  5.392000e+03  5392.000000  5392.000000  5392.000000      5392.000000   \n",
      "mean   5.591158e+06    42.989058     0.425445  3664.419696         1.173591   \n",
      "std    2.560655e+06    11.890900     0.494456  1497.592328         2.392621   \n",
      "min    1.120829e+06    18.000000     0.000000  1030.000000         0.000000   \n",
      "25%    3.379710e+06    34.000000     0.000000  2580.000000         0.000000   \n",
      "50%    5.608240e+06    42.000000     0.000000  3265.000000         0.000000   \n",
      "75%    7.818549e+06    51.000000     1.000000  4701.250000         1.000000   \n",
      "max    9.997079e+06    86.000000     1.000000  9813.000000        11.000000   \n",
      "\n",
      "       years_employed  current_address_year  personal_account_m  \\\n",
      "count     5392.000000           5392.000000         5392.000000   \n",
      "mean         3.512611              3.565096            3.485163   \n",
      "std          2.246915              2.758409            2.238133   \n",
      "min          0.000000              0.000000            0.000000   \n",
      "25%          2.000000              2.000000            2.000000   \n",
      "50%          3.000000              3.000000            3.000000   \n",
      "75%          5.000000              5.000000            5.000000   \n",
      "max         15.000000             12.000000           11.000000   \n",
      "\n",
      "       personal_account_y     has_debt  amount_requested    risk_score  \\\n",
      "count         5392.000000  5392.000000       5392.000000   5392.000000   \n",
      "mean             3.491469     0.795252        950.898924  60976.975148   \n",
      "std              1.945444     0.403555        678.778145  15389.196157   \n",
      "min              0.000000     0.000000        350.000000   4450.000000   \n",
      "25%              2.000000     1.000000        600.000000  49137.500000   \n",
      "50%              3.000000     1.000000        700.000000  61075.000000   \n",
      "75%              4.000000     1.000000       1100.000000  72750.000000   \n",
      "max             15.000000     1.000000      10100.000000  99300.000000   \n",
      "\n",
      "       risk_score_2  risk_score_3  risk_score_4  risk_score_5  \\\n",
      "count   5392.000000   5392.000000   5392.000000   5392.000000   \n",
      "mean       0.691371      0.879023      0.583866      0.717779   \n",
      "std        0.090886      0.055402      0.124607      0.119760   \n",
      "min        0.166305      0.536474      0.083435      0.214770   \n",
      "25%        0.640538      0.850846      0.501415      0.631126   \n",
      "50%        0.699448      0.881027      0.588260      0.723621   \n",
      "75%        0.754393      0.914777      0.672339      0.806918   \n",
      "max        0.999948      0.999024      0.949421      0.996260   \n",
      "\n",
      "       ext_quality_score  ext_quality_score_2  inquiries_last_month  \n",
      "count        5392.000000          5392.000000           5392.000000  \n",
      "mean            0.625825             0.622431              6.371662  \n",
      "std             0.139361             0.140549              3.531746  \n",
      "min             0.010184             0.077332              1.000000  \n",
      "25%             0.526619             0.520130              4.000000  \n",
      "50%             0.629588             0.620804              6.000000  \n",
      "75%             0.730264             0.730639              8.000000  \n",
      "max             0.963075             0.953601             30.000000  \n"
     ]
    }
   ],
   "source": [
    "print(train.describe())\n",
    "print(test.describe())"
   ]
  },
  {
   "cell_type": "code",
   "execution_count": 8,
   "id": "67e56d13",
   "metadata": {},
   "outputs": [
    {
     "name": "stdout",
     "output_type": "stream",
     "text": [
      "0\n",
      "0\n"
     ]
    }
   ],
   "source": [
    "# check for duplicates in the 2 datsets \n",
    "\n",
    "print(train.duplicated(keep=False).sum())\n",
    "print(test.duplicated(keep=False).sum())"
   ]
  },
  {
   "cell_type": "markdown",
   "id": "72d4f1ab",
   "metadata": {},
   "source": [
    "There isn't any duplicate in both the train and the test dataframes"
   ]
  },
  {
   "cell_type": "markdown",
   "id": "881b9d9d",
   "metadata": {},
   "source": [
    "## EXPLORATORY DATA ANALYSIS"
   ]
  },
  {
   "cell_type": "markdown",
   "id": "8197cb26",
   "metadata": {},
   "source": [
    "**First, lets see the distribution of the 'age'variable**"
   ]
  },
  {
   "cell_type": "code",
   "execution_count": 9,
   "id": "573f1b5e",
   "metadata": {},
   "outputs": [
    {
     "data": {
      "image/png": "[encoded data removed]",
      "text/plain": [
       "<Figure size 432x288 with 1 Axes>"
      ]
     },
     "metadata": {
      "needs_background": "light"
     },
     "output_type": "display_data"
    }
   ],
   "source": [
    "# lets see the distribution of the age variable \n",
    "\n",
    "bins = np.arange(0, train['age'].max()+5, 5)\n",
    "plt.hist(data = train, x = 'age', bins = bins);"
   ]
  },
  {
   "cell_type": "markdown",
   "id": "d49f0136",
   "metadata": {},
   "source": [
    "The age variable is normally distributed"
   ]
  },
  {
   "cell_type": "markdown",
   "id": "0e8f7d53",
   "metadata": {},
   "source": [
    "Next, I want to see the relationship between the 'age' variable and the 'e_signed' variable"
   ]
  },
  {
   "cell_type": "code",
   "execution_count": 11,
   "id": "629e620d",
   "metadata": {},
   "outputs": [],
   "source": [
    "ranges = ['18 - 29', '30 - 39', '40 - 49', '50 - 59', '60 - 69', '70 - 79', '80 - 89', '90 - 99']\n",
    "train['age_bin'] = pd.cut(train['age'], [18, 29, 39, 49, 59, 69, 79, 89, 99], labels=ranges)"
   ]
  },
  {
   "cell_type": "code",
   "execution_count": 12,
   "id": "552378e8",
   "metadata": {},
   "outputs": [
    {
     "data": {
      "image/png": "[encoded data removed]",
      "text/plain": [
       "<Figure size 432x288 with 1 Axes>"
      ]
     },
     "metadata": {
      "needs_background": "light"
     },
     "output_type": "display_data"
    }
   ],
   "source": [
    "sedan_classes = ['18 - 29', '30 - 39', '40 - 49', '50 - 59', '60 - 69', '70 - 79', '80 - 89', '90 - 99']\n",
    "pd_ver = pd.__version__.split(\".\")\n",
    "if (int(pd_ver[0]) > 0) or (int(pd_ver[1]) >= 21): # v0.21 or later\n",
    " ageclasses = pd.api.types.CategoricalDtype(ordered = True, categories = sedan_classes)\n",
    " train['age_bin'] = train['age_bin'].astype(ageclasses)\n",
    "else: # pre-v0.21\n",
    "    train['age_bin'] = train['age_bin'].astype('category', ordered = True,categories = sedan_classes)\n",
    "\n",
    "  # plotting\n",
    "ax = sns.countplot(data = train, x = 'age_bin', hue = 'e_signed')\n",
    "ax.legend(loc = 4, framealpha = 1) # lower right, no transparency\n",
    "plt.xticks(rotation = 15);"
   ]
  },
  {
   "cell_type": "markdown",
   "id": "78fb9164",
   "metadata": {},
   "source": [
    "From the chart above, we can see that in most of the age groups, more indivuals completed the process via e-signing except for ages from 60 and above. "
   ]
  },
  {
   "cell_type": "markdown",
   "id": "c40bc27b",
   "metadata": {},
   "source": [
    "Now, its time to look into the **pay schedule**"
   ]
  },
  {
   "cell_type": "code",
   "execution_count": 13,
   "id": "dc61ebdd",
   "metadata": {},
   "outputs": [
    {
     "data": {
      "image/png": "[encoded data removed]",
      "text/plain": [
       "<Figure size 432x288 with 1 Axes>"
      ]
     },
     "metadata": {
      "needs_background": "light"
     },
     "output_type": "display_data"
    }
   ],
   "source": [
    "sedan_classes = ['bi-weekly', 'weekly', 'semi-monthly', 'monthly']\n",
    "pd_ver = pd.__version__.split(\".\")\n",
    "if (int(pd_ver[0]) > 0) or (int(pd_ver[1]) >= 21): # v0.21 or later\n",
    " payclasses = pd.api.types.CategoricalDtype(ordered = True, categories = sedan_classes)\n",
    " train['pay_schedule'] = train['pay_schedule'].astype(payclasses)\n",
    "else: # pre-v0.21\n",
    "    train['pay_schedule'] = train['pay_schedule'].astype('category', ordered = True,categories = sedan_classes)\n",
    "\n",
    "  # plotting\n",
    "ax = sns.countplot(data = train, x = 'pay_schedule', hue = 'e_signed')\n",
    "ax.legend(loc = 4, framealpha = 1) # lower right, no transparency\n",
    "plt.xticks(rotation = 15);"
   ]
  },
  {
   "cell_type": "markdown",
   "id": "3c907bdb",
   "metadata": {},
   "source": [
    "**Next, lets look into the 'home_owner' variable.** \n",
    "\n",
    "*Is there a relationship between an individual being a home owner and the probability of him completing the process via e-process ?*"
   ]
  },
  {
   "cell_type": "code",
   "execution_count": 14,
   "id": "ae7041bd",
   "metadata": {},
   "outputs": [
    {
     "data": {
      "image/png": "[encoded data removed]",
      "text/plain": [
       "<Figure size 432x288 with 1 Axes>"
      ]
     },
     "metadata": {
      "needs_background": "light"
     },
     "output_type": "display_data"
    }
   ],
   "source": [
    "# I'd be using scatter plot for this \n",
    "\n",
    "sns.regplot(data = train, x = 'home_owner', y = 'e_signed', truncate=False);"
   ]
  },
  {
   "cell_type": "markdown",
   "id": "4777b15f",
   "metadata": {},
   "source": [
    "I'd use hist2d to view it properly "
   ]
  },
  {
   "cell_type": "code",
   "execution_count": 15,
   "id": "fe7ddae8",
   "metadata": {},
   "outputs": [
    {
     "data": {
      "image/png": "[encoded data removed]",
      "text/plain": [
       "<Figure size 432x288 with 2 Axes>"
      ]
     },
     "metadata": {
      "needs_background": "light"
     },
     "output_type": "display_data"
    }
   ],
   "source": [
    "plt.hist2d(data = train, x = 'home_owner', y = 'e_signed')\n",
    "plt.colorbar()\n",
    "plt.xlabel('home_owner')\n",
    "plt.ylabel('e_signed');"
   ]
  },
  {
   "cell_type": "markdown",
   "id": "1ea63b1c",
   "metadata": {},
   "source": [
    "From the chart above, we can see that most of the individuals that are not home owners complete the process via e-process."
   ]
  },
  {
   "cell_type": "markdown",
   "id": "1c27266d",
   "metadata": {},
   "source": [
    "**Now, lets look into the income variable**"
   ]
  },
  {
   "cell_type": "code",
   "execution_count": 16,
   "id": "2f1918f4",
   "metadata": {},
   "outputs": [
    {
     "data": {
      "image/png": "[encoded data removed]",
      "text/plain": [
       "<Figure size 432x288 with 2 Axes>"
      ]
     },
     "metadata": {
      "needs_background": "light"
     },
     "output_type": "display_data"
    }
   ],
   "source": [
    "# lets see the relationship between the income and e_signed \n",
    "\n",
    "plt.hist2d(data = train, x = 'income', y = 'e_signed')\n",
    "plt.colorbar()\n",
    "plt.xlabel('income')\n",
    "plt.ylabel('e_signed');"
   ]
  },
  {
   "cell_type": "markdown",
   "id": "e853a0b4",
   "metadata": {},
   "source": [
    "Although the difference isn't too much, there are more indivuals with income between '2000 and 4000' using the e process. "
   ]
  },
  {
   "cell_type": "markdown",
   "id": "47dd99b2",
   "metadata": {},
   "source": [
    "Now, I want to look at the distribution of the income variable "
   ]
  },
  {
   "cell_type": "code",
   "execution_count": 17,
   "id": "0a0955c8",
   "metadata": {},
   "outputs": [
    {
     "data": {
      "image/png": "[encoded data removed]",
      "text/plain": [
       "<Figure size 432x288 with 1 Axes>"
      ]
     },
     "metadata": {
      "needs_background": "light"
     },
     "output_type": "display_data"
    }
   ],
   "source": [
    "# lets see the distribution of the income variable \n",
    "\n",
    "bins = np.arange(905, train['income'].max()+300, 300)\n",
    "plt.hist(data = train, x = 'income', bins = bins);"
   ]
  },
  {
   "cell_type": "markdown",
   "id": "af8cd886",
   "metadata": {},
   "source": [
    "It is skewed to the right. Ill apply a logarithmic transformation to it and then view the output "
   ]
  },
  {
   "cell_type": "code",
   "execution_count": 18,
   "id": "07ac1cb2",
   "metadata": {},
   "outputs": [],
   "source": [
    "train['log_income'] = np.log(train['income'])"
   ]
  },
  {
   "cell_type": "code",
   "execution_count": 19,
   "id": "6616f193",
   "metadata": {},
   "outputs": [
    {
     "data": {
      "image/png": "[encoded data removed]",
      "text/plain": [
       "<Figure size 432x288 with 1 Axes>"
      ]
     },
     "metadata": {
      "needs_background": "light"
     },
     "output_type": "display_data"
    }
   ],
   "source": [
    "plt.hist(data = train, x = 'log_income');"
   ]
  },
  {
   "cell_type": "markdown",
   "id": "b5a5cc14",
   "metadata": {},
   "source": [
    "Looks much better, I'll be using the log of the income for the model. "
   ]
  },
  {
   "cell_type": "markdown",
   "id": "dabd02cb",
   "metadata": {},
   "source": [
    "Next, I'll create another column for the average of the risk scores which would also be used for the model"
   ]
  },
  {
   "cell_type": "code",
   "execution_count": 20,
   "id": "46514a23",
   "metadata": {},
   "outputs": [],
   "source": [
    "train['avg_risk_score'] = ((train['risk_score'] + train['risk_score_2'] + train['risk_score_3'] + train['risk_score_4'] + train['risk_score_5'])/5)"
   ]
  },
  {
   "cell_type": "markdown",
   "id": "e4b87099",
   "metadata": {},
   "source": [
    "For the amount requested variable, I will be using the log for the model.\n",
    "\n",
    "So now, to create a column for the log "
   ]
  },
  {
   "cell_type": "code",
   "execution_count": 26,
   "id": "dc407eb4",
   "metadata": {},
   "outputs": [],
   "source": [
    "train['log_amount_requested'] = np.log(train['amount_requested'])"
   ]
  },
  {
   "cell_type": "markdown",
   "id": "36df879b",
   "metadata": {},
   "source": [
    "**Now, lets look at the inquries_last_month variable**"
   ]
  },
  {
   "cell_type": "code",
   "execution_count": 27,
   "id": "077a95ad",
   "metadata": {},
   "outputs": [
    {
     "data": {
      "image/png": "[encoded data removed]",
      "text/plain": [
       "<Figure size 432x288 with 1 Axes>"
      ]
     },
     "metadata": {
      "needs_background": "light"
     },
     "output_type": "display_data"
    }
   ],
   "source": [
    "# the distribution\n",
    "\n",
    "# first, we'll look at its distribution\n",
    "\n",
    "bins = np.arange(0, train['inquiries_last_month'].max()+2, 2)\n",
    "plt.hist(data = train, x = 'inquiries_last_month', bins = bins);"
   ]
  },
  {
   "cell_type": "markdown",
   "id": "d26ec9f3",
   "metadata": {},
   "source": [
    "It is skewed to the left. Let's take a look at the log of this variable "
   ]
  },
  {
   "cell_type": "code",
   "execution_count": 28,
   "id": "85e5480d",
   "metadata": {},
   "outputs": [],
   "source": [
    "train['log_inquiries_last_month'] = np.log(train['inquiries_last_month'])"
   ]
  },
  {
   "cell_type": "code",
   "execution_count": 46,
   "id": "24d1be7e",
   "metadata": {},
   "outputs": [],
   "source": [
    "train['personal_account_months'] = (train['personal_account_y']*12) + train['personal_account_m']"
   ]
  },
  {
   "cell_type": "code",
   "execution_count": 29,
   "id": "d3724e04",
   "metadata": {},
   "outputs": [
    {
     "data": {
      "image/png": "[encoded data removed]",
      "text/plain": [
       "<Figure size 432x288 with 1 Axes>"
      ]
     },
     "metadata": {
      "needs_background": "light"
     },
     "output_type": "display_data"
    }
   ],
   "source": [
    "plt.hist(data = train, x = 'log_inquiries_last_month');"
   ]
  },
  {
   "cell_type": "markdown",
   "id": "0071ce93",
   "metadata": {},
   "source": [
    "The log of the inquiries_last_month variable would be used for the model"
   ]
  },
  {
   "cell_type": "markdown",
   "id": "6ab43919",
   "metadata": {},
   "source": [
    "**Now, I want to see the general relationship between all the variables and the e_signed variable**\n",
    "\n",
    "I'd be using heatmap to view the relationship\n",
    "\n",
    "Using the train dataframe just the way it is would not be efficient as the variables are too much, so I'd be breaking the dataframe into 3 different dataframes and viewing them individually. "
   ]
  },
  {
   "cell_type": "code",
   "execution_count": 30,
   "id": "f52a878e",
   "metadata": {},
   "outputs": [
    {
     "data": {
      "text/plain": [
       "Index(['Entry_id', 'age', 'pay_schedule', 'home_owner', 'income',\n",
       "       'months_employed', 'years_employed', 'current_address_year',\n",
       "       'personal_account_m', 'personal_account_y', 'has_debt',\n",
       "       'amount_requested', 'risk_score', 'risk_score_2', 'risk_score_3',\n",
       "       'risk_score_4', 'risk_score_5', 'ext_quality_score',\n",
       "       'ext_quality_score_2', 'inquiries_last_month', 'e_signed', 'age_bin',\n",
       "       'log_income', 'avg_risk_score', 'log_amount_requested',\n",
       "       'log_inquiries_last_month'],\n",
       "      dtype='object')"
      ]
     },
     "execution_count": 30,
     "metadata": {},
     "output_type": "execute_result"
    }
   ],
   "source": [
    "train.columns"
   ]
  },
  {
   "cell_type": "code",
   "execution_count": 39,
   "id": "721b1031",
   "metadata": {},
   "outputs": [],
   "source": [
    "heat1 = train.copy()\n",
    "heat2 = train.copy()\n",
    "heat3 = train.copy()"
   ]
  },
  {
   "cell_type": "code",
   "execution_count": 40,
   "id": "780686b7",
   "metadata": {},
   "outputs": [],
   "source": [
    "heat1.drop(['avg_risk_score', 'log_amount_requested', 'age', 'pay_schedule', 'years_employed', 'months_employed',\n",
    "             'log_income', 'Entry_id', 'home_owner', 'income', 'current_address_year',\n",
    "             'personal_account_m', 'personal_account_y', 'has_debt', 'amount_requested',\n",
    "             'inquiries_last_month', 'age_bin'], axis = 1, inplace = True)\n",
    "\n",
    "heat2.drop(['log_inquiries_last_month', 'years_employed', 'current_address_year', 'income', \n",
    "             'has_debt', 'Entry_id',  'risk_score', 'risk_score_2', 'risk_score_3',\n",
    "             'risk_score_4', 'risk_score_5', 'home_owner', 'amount_requested', 'ext_quality_score',\n",
    "             'ext_quality_score_2', 'log_income', 'avg_risk_score', 'log_amount_requested'], axis = 1, inplace = True)\n",
    "\n",
    "heat3.drop(['log_inquiries_last_month', 'inquiries_last_month', 'risk_score', 'risk_score_2',\n",
    "             'risk_score_3', 'risk_score_4', 'risk_score_5', 'personal_account_y', \n",
    "             'personal_account_m', 'Entry_id', 'months_employed', 'ext_quality_score',\n",
    "             'ext_quality_score_2', 'age_bin'], axis = 1, inplace = True)"
   ]
  },
  {
   "cell_type": "code",
   "execution_count": 41,
   "id": "743c4231",
   "metadata": {},
   "outputs": [],
   "source": [
    "heat1_matrix = heat1.corr()\n",
    "heat2_matrix = heat2.corr()\n",
    "heat3_matrix = heat3.corr()"
   ]
  },
  {
   "cell_type": "code",
   "execution_count": 42,
   "id": "51e6fb88",
   "metadata": {},
   "outputs": [
    {
     "data": {
      "image/png": "[encoded data removed]",
      "text/plain": [
       "<Figure size 432x288 with 2 Axes>"
      ]
     },
     "metadata": {
      "needs_background": "light"
     },
     "output_type": "display_data"
    }
   ],
   "source": [
    "sns.heatmap(heat1_matrix, annot = True)\n",
    "\n",
    "plt.show()"
   ]
  },
  {
   "cell_type": "code",
   "execution_count": 43,
   "id": "4c442ca0",
   "metadata": {},
   "outputs": [
    {
     "data": {
      "image/png": "[encoded data removed]",
      "text/plain": [
       "<Figure size 432x288 with 2 Axes>"
      ]
     },
     "metadata": {
      "needs_background": "light"
     },
     "output_type": "display_data"
    }
   ],
   "source": [
    "sns.heatmap(heat2_matrix, annot = True)\n",
    "\n",
    "plt.show()"
   ]
  },
  {
   "cell_type": "code",
   "execution_count": 44,
   "id": "bc9a6664",
   "metadata": {},
   "outputs": [
    {
     "data": {
      "image/png": "[encoded data removed]",
      "text/plain": [
       "<Figure size 432x288 with 2 Axes>"
      ]
     },
     "metadata": {
      "needs_background": "light"
     },
     "output_type": "display_data"
    }
   ],
   "source": [
    "sns.heatmap(heat3_matrix, annot = True)\n",
    "\n",
    "plt.show()"
   ]
  },
  {
   "cell_type": "markdown",
   "id": "5059a473",
   "metadata": {},
   "source": [
    "Lastly, Ill make break down the pay_schedule column to be able to use it for the model "
   ]
  },
  {
   "cell_type": "code",
   "execution_count": 45,
   "id": "b35655a8",
   "metadata": {},
   "outputs": [],
   "source": [
    "train = pd.get_dummies(train, columns = ['pay_schedule'])"
   ]
  },
  {
   "cell_type": "markdown",
   "id": "37fba857",
   "metadata": {},
   "source": [
    "## THE MODELS"
   ]
  },
  {
   "cell_type": "markdown",
   "id": "fe479ac9",
   "metadata": {},
   "source": [
    "**INPUT FEATURES**"
   ]
  },
  {
   "cell_type": "code",
   "execution_count": 47,
   "id": "583d2e28",
   "metadata": {},
   "outputs": [],
   "source": [
    "feature_names = ['age', 'log_income', 'home_owner', 'log_amount_requested', 'personal_account_months',\n",
    "                'log_inquiries_last_month', 'has_debt','avg_risk_score','months_employed', 'years_employed','current_address_year',\n",
    "                'personal_account_m','personal_account_y','amount_requested',\n",
    "       'risk_score_2', 'risk_score_3', 'risk_score_4', 'risk_score_5','ext_quality_score', \n",
    "                 'ext_quality_score_2', 'inquiries_last_month']"
   ]
  },
  {
   "cell_type": "markdown",
   "id": "db3b9618",
   "metadata": {},
   "source": [
    "**OUTPUT FEATURES**"
   ]
  },
  {
   "cell_type": "code",
   "execution_count": 48,
   "id": "ef31fce5",
   "metadata": {},
   "outputs": [],
   "source": [
    "target_name = ['e_signed']"
   ]
  },
  {
   "cell_type": "markdown",
   "id": "c02d34df",
   "metadata": {},
   "source": [
    "**ASSIGNING INPUT AND OUTPUT**"
   ]
  },
  {
   "cell_type": "code",
   "execution_count": 50,
   "id": "0722f27e",
   "metadata": {},
   "outputs": [],
   "source": [
    "X = train[feature_names]\n",
    "\n",
    "Y = train[target_name]"
   ]
  },
  {
   "cell_type": "markdown",
   "id": "70e739cc",
   "metadata": {},
   "source": [
    "**BUILD CLASSIFICATION MODEL USING RANDOM FOREST**"
   ]
  },
  {
   "cell_type": "code",
   "execution_count": 51,
   "id": "93107ace",
   "metadata": {},
   "outputs": [],
   "source": [
    "clf = RandomForestClassifier()"
   ]
  },
  {
   "cell_type": "code",
   "execution_count": 52,
   "id": "903425ce",
   "metadata": {},
   "outputs": [
    {
     "name": "stderr",
     "output_type": "stream",
     "text": [
      "C:\\Users\\User\\AppData\\Local\\Temp\\ipykernel_3608\\638930132.py:1: DataConversionWarning: A column-vector y was passed when a 1d array was expected. Please change the shape of y to (n_samples,), for example using ravel().\n",
      "  clf.fit(X, Y)\n"
     ]
    },
    {
     "data": {
      "text/html": [
       "<style>#sk-container-id-1 {color: black;background-color: white;}#sk-container-id-1 pre{padding: 0;}#sk-container-id-1 div.sk-toggleable {background-color: white;}#sk-container-id-1 label.sk-toggleable__label {cursor: pointer;display: block;width: 100%;margin-bottom: 0;padding: 0.3em;box-sizing: border-box;text-align: center;}#sk-container-id-1 label.sk-toggleable__label-arrow:before {content: \"▸\";float: left;margin-right: 0.25em;color: #696969;}#sk-container-id-1 label.sk-toggleable__label-arrow:hover:before {color: black;}#sk-container-id-1 div.sk-estimator:hover label.sk-toggleable__label-arrow:before {color: black;}#sk-container-id-1 div.sk-toggleable__content {max-height: 0;max-width: 0;overflow: hidden;text-align: left;background-color: #f0f8ff;}#sk-container-id-1 div.sk-toggleable__content pre {margin: 0.2em;color: black;border-radius: 0.25em;background-color: #f0f8ff;}#sk-container-id-1 input.sk-toggleable__control:checked~div.sk-toggleable__content {max-height: 200px;max-width: 100%;overflow: auto;}#sk-container-id-1 input.sk-toggleable__control:checked~label.sk-toggleable__label-arrow:before {content: \"▾\";}#sk-container-id-1 div.sk-estimator input.sk-toggleable__control:checked~label.sk-toggleable__label {background-color: #d4ebff;}#sk-container-id-1 div.sk-label input.sk-toggleable__control:checked~label.sk-toggleable__label {background-color: #d4ebff;}#sk-container-id-1 input.sk-hidden--visually {border: 0;clip: rect(1px 1px 1px 1px);clip: rect(1px, 1px, 1px, 1px);height: 1px;margin: -1px;overflow: hidden;padding: 0;position: absolute;width: 1px;}#sk-container-id-1 div.sk-estimator {font-family: monospace;background-color: #f0f8ff;border: 1px dotted black;border-radius: 0.25em;box-sizing: border-box;margin-bottom: 0.5em;}#sk-container-id-1 div.sk-estimator:hover {background-color: #d4ebff;}#sk-container-id-1 div.sk-parallel-item::after {content: \"\";width: 100%;border-bottom: 1px solid gray;flex-grow: 1;}#sk-container-id-1 div.sk-label:hover label.sk-toggleable__label {background-color: #d4ebff;}#sk-container-id-1 div.sk-serial::before {content: \"\";position: absolute;border-left: 1px solid gray;box-sizing: border-box;top: 0;bottom: 0;left: 50%;z-index: 0;}#sk-container-id-1 div.sk-serial {display: flex;flex-direction: column;align-items: center;background-color: white;padding-right: 0.2em;padding-left: 0.2em;position: relative;}#sk-container-id-1 div.sk-item {position: relative;z-index: 1;}#sk-container-id-1 div.sk-parallel {display: flex;align-items: stretch;justify-content: center;background-color: white;position: relative;}#sk-container-id-1 div.sk-item::before, #sk-container-id-1 div.sk-parallel-item::before {content: \"\";position: absolute;border-left: 1px solid gray;box-sizing: border-box;top: 0;bottom: 0;left: 50%;z-index: -1;}#sk-container-id-1 div.sk-parallel-item {display: flex;flex-direction: column;z-index: 1;position: relative;background-color: white;}#sk-container-id-1 div.sk-parallel-item:first-child::after {align-self: flex-end;width: 50%;}#sk-container-id-1 div.sk-parallel-item:last-child::after {align-self: flex-start;width: 50%;}#sk-container-id-1 div.sk-parallel-item:only-child::after {width: 0;}#sk-container-id-1 div.sk-dashed-wrapped {border: 1px dashed gray;margin: 0 0.4em 0.5em 0.4em;box-sizing: border-box;padding-bottom: 0.4em;background-color: white;}#sk-container-id-1 div.sk-label label {font-family: monospace;font-weight: bold;display: inline-block;line-height: 1.2em;}#sk-container-id-1 div.sk-label-container {text-align: center;}#sk-container-id-1 div.sk-container {/* jupyter's `normalize.less` sets `[hidden] { display: none; }` but bootstrap.min.css set `[hidden] { display: none !important; }` so we also need the `!important` here to be able to override the default hidden behavior on the sphinx rendered scikit-learn.org. See: https://github.com/scikit-learn/scikit-learn/issues/21755 */display: inline-block !important;position: relative;}#sk-container-id-1 div.sk-text-repr-fallback {display: none;}</style><div id=\"sk-container-id-1\" class=\"sk-top-container\"><div class=\"sk-text-repr-fallback\"><pre>RandomForestClassifier()</pre><b>In a Jupyter environment, please rerun this cell to show the HTML representation or trust the notebook. <br />On GitHub, the HTML representation is unable to render, please try loading this page with nbviewer.org.</b></div><div class=\"sk-container\" hidden><div class=\"sk-item\"><div class=\"sk-estimator sk-toggleable\"><input class=\"sk-toggleable__control sk-hidden--visually\" id=\"sk-estimator-id-1\" type=\"checkbox\" checked><label for=\"sk-estimator-id-1\" class=\"sk-toggleable__label sk-toggleable__label-arrow\">RandomForestClassifier</label><div class=\"sk-toggleable__content\"><pre>RandomForestClassifier()</pre></div></div></div></div></div>"
      ],
      "text/plain": [
       "RandomForestClassifier()"
      ]
     },
     "execution_count": 52,
     "metadata": {},
     "output_type": "execute_result"
    }
   ],
   "source": [
    "clf.fit(X, Y)"
   ]
  },
  {
   "cell_type": "code",
   "execution_count": 53,
   "id": "d3397e94",
   "metadata": {},
   "outputs": [
    {
     "name": "stdout",
     "output_type": "stream",
     "text": [
      "[0.06059163 0.0762066  0.00920011 0.05160606 0.05604564 0.03161881\n",
      " 0.00883857 0.08067957 0.01831478 0.0336576  0.03635695 0.03240731\n",
      " 0.0266565  0.05263038 0.06682128 0.06677067 0.06568097 0.06377632\n",
      " 0.06409706 0.06500667 0.03303649]\n"
     ]
    }
   ],
   "source": [
    "print(clf.feature_importances_)"
   ]
  },
  {
   "cell_type": "markdown",
   "id": "9304063b",
   "metadata": {},
   "source": [
    "**MAKE PREDICTION**"
   ]
  },
  {
   "cell_type": "markdown",
   "id": "33c5460f",
   "metadata": {},
   "source": [
    "**SPLIT THE DATA INTO 80/20**"
   ]
  },
  {
   "cell_type": "code",
   "execution_count": 54,
   "id": "43253c22",
   "metadata": {},
   "outputs": [],
   "source": [
    "X_train, X_test, Y_train, Y_test = train_test_split(X, Y, test_size = 0.2)"
   ]
  },
  {
   "cell_type": "markdown",
   "id": "d590cbe6",
   "metadata": {},
   "source": [
    "**REBUILD THE RANDOM FOREST MODEL**"
   ]
  },
  {
   "cell_type": "code",
   "execution_count": 55,
   "id": "d180f51a",
   "metadata": {},
   "outputs": [
    {
     "name": "stderr",
     "output_type": "stream",
     "text": [
      "C:\\Users\\User\\AppData\\Local\\Temp\\ipykernel_3608\\3383944391.py:1: DataConversionWarning: A column-vector y was passed when a 1d array was expected. Please change the shape of y to (n_samples,), for example using ravel().\n",
      "  clf.fit(X_train, Y_train)\n"
     ]
    },
    {
     "data": {
      "text/html": [
       "<style>#sk-container-id-2 {color: black;background-color: white;}#sk-container-id-2 pre{padding: 0;}#sk-container-id-2 div.sk-toggleable {background-color: white;}#sk-container-id-2 label.sk-toggleable__label {cursor: pointer;display: block;width: 100%;margin-bottom: 0;padding: 0.3em;box-sizing: border-box;text-align: center;}#sk-container-id-2 label.sk-toggleable__label-arrow:before {content: \"▸\";float: left;margin-right: 0.25em;color: #696969;}#sk-container-id-2 label.sk-toggleable__label-arrow:hover:before {color: black;}#sk-container-id-2 div.sk-estimator:hover label.sk-toggleable__label-arrow:before {color: black;}#sk-container-id-2 div.sk-toggleable__content {max-height: 0;max-width: 0;overflow: hidden;text-align: left;background-color: #f0f8ff;}#sk-container-id-2 div.sk-toggleable__content pre {margin: 0.2em;color: black;border-radius: 0.25em;background-color: #f0f8ff;}#sk-container-id-2 input.sk-toggleable__control:checked~div.sk-toggleable__content {max-height: 200px;max-width: 100%;overflow: auto;}#sk-container-id-2 input.sk-toggleable__control:checked~label.sk-toggleable__label-arrow:before {content: \"▾\";}#sk-container-id-2 div.sk-estimator input.sk-toggleable__control:checked~label.sk-toggleable__label {background-color: #d4ebff;}#sk-container-id-2 div.sk-label input.sk-toggleable__control:checked~label.sk-toggleable__label {background-color: #d4ebff;}#sk-container-id-2 input.sk-hidden--visually {border: 0;clip: rect(1px 1px 1px 1px);clip: rect(1px, 1px, 1px, 1px);height: 1px;margin: -1px;overflow: hidden;padding: 0;position: absolute;width: 1px;}#sk-container-id-2 div.sk-estimator {font-family: monospace;background-color: #f0f8ff;border: 1px dotted black;border-radius: 0.25em;box-sizing: border-box;margin-bottom: 0.5em;}#sk-container-id-2 div.sk-estimator:hover {background-color: #d4ebff;}#sk-container-id-2 div.sk-parallel-item::after {content: \"\";width: 100%;border-bottom: 1px solid gray;flex-grow: 1;}#sk-container-id-2 div.sk-label:hover label.sk-toggleable__label {background-color: #d4ebff;}#sk-container-id-2 div.sk-serial::before {content: \"\";position: absolute;border-left: 1px solid gray;box-sizing: border-box;top: 0;bottom: 0;left: 50%;z-index: 0;}#sk-container-id-2 div.sk-serial {display: flex;flex-direction: column;align-items: center;background-color: white;padding-right: 0.2em;padding-left: 0.2em;position: relative;}#sk-container-id-2 div.sk-item {position: relative;z-index: 1;}#sk-container-id-2 div.sk-parallel {display: flex;align-items: stretch;justify-content: center;background-color: white;position: relative;}#sk-container-id-2 div.sk-item::before, #sk-container-id-2 div.sk-parallel-item::before {content: \"\";position: absolute;border-left: 1px solid gray;box-sizing: border-box;top: 0;bottom: 0;left: 50%;z-index: -1;}#sk-container-id-2 div.sk-parallel-item {display: flex;flex-direction: column;z-index: 1;position: relative;background-color: white;}#sk-container-id-2 div.sk-parallel-item:first-child::after {align-self: flex-end;width: 50%;}#sk-container-id-2 div.sk-parallel-item:last-child::after {align-self: flex-start;width: 50%;}#sk-container-id-2 div.sk-parallel-item:only-child::after {width: 0;}#sk-container-id-2 div.sk-dashed-wrapped {border: 1px dashed gray;margin: 0 0.4em 0.5em 0.4em;box-sizing: border-box;padding-bottom: 0.4em;background-color: white;}#sk-container-id-2 div.sk-label label {font-family: monospace;font-weight: bold;display: inline-block;line-height: 1.2em;}#sk-container-id-2 div.sk-label-container {text-align: center;}#sk-container-id-2 div.sk-container {/* jupyter's `normalize.less` sets `[hidden] { display: none; }` but bootstrap.min.css set `[hidden] { display: none !important; }` so we also need the `!important` here to be able to override the default hidden behavior on the sphinx rendered scikit-learn.org. See: https://github.com/scikit-learn/scikit-learn/issues/21755 */display: inline-block !important;position: relative;}#sk-container-id-2 div.sk-text-repr-fallback {display: none;}</style><div id=\"sk-container-id-2\" class=\"sk-top-container\"><div class=\"sk-text-repr-fallback\"><pre>RandomForestClassifier()</pre><b>In a Jupyter environment, please rerun this cell to show the HTML representation or trust the notebook. <br />On GitHub, the HTML representation is unable to render, please try loading this page with nbviewer.org.</b></div><div class=\"sk-container\" hidden><div class=\"sk-item\"><div class=\"sk-estimator sk-toggleable\"><input class=\"sk-toggleable__control sk-hidden--visually\" id=\"sk-estimator-id-2\" type=\"checkbox\" checked><label for=\"sk-estimator-id-2\" class=\"sk-toggleable__label sk-toggleable__label-arrow\">RandomForestClassifier</label><div class=\"sk-toggleable__content\"><pre>RandomForestClassifier()</pre></div></div></div></div></div>"
      ],
      "text/plain": [
       "RandomForestClassifier()"
      ]
     },
     "execution_count": 55,
     "metadata": {},
     "output_type": "execute_result"
    }
   ],
   "source": [
    "clf.fit(X_train, Y_train)"
   ]
  },
  {
   "cell_type": "markdown",
   "id": "4fa28e91",
   "metadata": {},
   "source": [
    "**PREDICT ON THE TEST SET**"
   ]
  },
  {
   "cell_type": "code",
   "execution_count": 57,
   "id": "4b75384b",
   "metadata": {},
   "outputs": [
    {
     "name": "stdout",
     "output_type": "stream",
     "text": [
      "[1 0 0 ... 1 1 0]\n"
     ]
    }
   ],
   "source": [
    "print(clf.predict(X_test))"
   ]
  },
  {
   "cell_type": "markdown",
   "id": "2db98e1f",
   "metadata": {},
   "source": [
    "**MODEL PERFORMANCE**"
   ]
  },
  {
   "cell_type": "code",
   "execution_count": 58,
   "id": "9ab143cc",
   "metadata": {},
   "outputs": [
    {
     "name": "stdout",
     "output_type": "stream",
     "text": [
      "0.6265974440894568\n"
     ]
    }
   ],
   "source": [
    "print(clf.score(X_test, Y_test))"
   ]
  },
  {
   "cell_type": "markdown",
   "id": "340e6fca",
   "metadata": {},
   "source": [
    "## THE TEST DATA"
   ]
  },
  {
   "cell_type": "code",
   "execution_count": 59,
   "id": "0080ca5d",
   "metadata": {},
   "outputs": [],
   "source": [
    "test['log_income'] = np.log(test['income'])\n",
    "test['log_amount_requested'] = np.log(test['amount_requested'])"
   ]
  },
  {
   "cell_type": "code",
   "execution_count": 60,
   "id": "f42b0451",
   "metadata": {},
   "outputs": [],
   "source": [
    "test['log_inquiries_last_month'] = np.log(test['inquiries_last_month'])"
   ]
  },
  {
   "cell_type": "code",
   "execution_count": 61,
   "id": "2c7e9ee8",
   "metadata": {},
   "outputs": [],
   "source": [
    "test['personal_account_months'] = (test['personal_account_y']*12) + test['personal_account_m']"
   ]
  },
  {
   "cell_type": "code",
   "execution_count": 62,
   "id": "bc5be221",
   "metadata": {},
   "outputs": [],
   "source": [
    "test['avg_risk_score'] = ((test['risk_score'] + test['risk_score_2'] + test['risk_score_3'] + test['risk_score_4'] + test['risk_score_5'])/5)"
   ]
  },
  {
   "cell_type": "code",
   "execution_count": 63,
   "id": "d8883e72",
   "metadata": {},
   "outputs": [],
   "source": [
    "test['avg_ext_quality'] = ((test['ext_quality_score'] + test['ext_quality_score_2'])/2)"
   ]
  },
  {
   "cell_type": "code",
   "execution_count": 64,
   "id": "2ac10dd3",
   "metadata": {},
   "outputs": [],
   "source": [
    "feature_names_test = ['age', 'log_income', 'home_owner', 'log_amount_requested', 'personal_account_months',\n",
    "                'log_inquiries_last_month', 'has_debt','avg_risk_score','months_employed', 'years_employed','current_address_year',\n",
    "                'personal_account_m','personal_account_y','amount_requested',\n",
    "       'risk_score_2', 'risk_score_3', 'risk_score_4', 'risk_score_5','ext_quality_score', \n",
    "                 'ext_quality_score_2', 'inquiries_last_month']"
   ]
  },
  {
   "cell_type": "code",
   "execution_count": 65,
   "id": "1c509d9e",
   "metadata": {},
   "outputs": [],
   "source": [
    "X_newtest = test[feature_names_test]"
   ]
  },
  {
   "cell_type": "code",
   "execution_count": 66,
   "id": "91e6f7d2",
   "metadata": {},
   "outputs": [],
   "source": [
    "answer = clf.predict(X_newtest)"
   ]
  },
  {
   "cell_type": "code",
   "execution_count": 67,
   "id": "ec018b9f",
   "metadata": {},
   "outputs": [],
   "source": [
    "df_answer = pd.DataFrame(answer, columns = ['Y_test'])"
   ]
  },
  {
   "cell_type": "code",
   "execution_count": 68,
   "id": "6bdaf774",
   "metadata": {},
   "outputs": [],
   "source": [
    "df_answer.to_csv('Data_archive3.csv',index=False)"
   ]
  }
 ],
 "metadata": {
  "kernelspec": {
   "display_name": "Python 3 (ipykernel)",
   "language": "python",
   "name": "python3"
  },
  "language_info": {
   "codemirror_mode": {
    "name": "ipython",
    "version": 3
   },
   "file_extension": ".py",
   "mimetype": "text/x-python",
   "name": "python",
   "nbconvert_exporter": "python",
   "pygments_lexer": "ipython3",
   "version": "3.10.4"
  }
 },
 "nbformat": 4,
 "nbformat_minor": 5
}
